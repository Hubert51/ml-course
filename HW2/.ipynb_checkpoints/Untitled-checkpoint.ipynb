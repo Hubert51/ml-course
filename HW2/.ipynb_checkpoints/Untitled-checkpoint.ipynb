{
 "cells": [
  {
   "cell_type": "code",
   "execution_count": 1,
   "metadata": {},
   "outputs": [],
   "source": [
    "import numpy as np"
   ]
  },
  {
   "cell_type": "code",
   "execution_count": 2,
   "metadata": {},
   "outputs": [],
   "source": [
    "X_train = np.genfromtxt('X_train.csv', delimiter=\",\")\n",
    "y_train = np.genfromtxt('y_train.csv', delimiter=\",\")\n",
    "X_test = np.genfromtxt('X_test.csv', delimiter=\",\")\n",
    "y_test = np.genfromtxt('y_test.csv', delimiter=\",\")"
   ]
  },
  {
   "cell_type": "code",
   "execution_count": 5,
   "metadata": {},
   "outputs": [
    {
     "data": {
      "text/plain": [
       "(4508, 57)"
      ]
     },
     "execution_count": 5,
     "metadata": {},
     "output_type": "execute_result"
    }
   ],
   "source": [
    "X_train.shape"
   ]
  },
  {
   "cell_type": "code",
   "execution_count": 78,
   "metadata": {},
   "outputs": [],
   "source": [
    "class BayesClassifier:\n",
    "    def __init__(self):\n",
    "        self.theta = None\n",
    "        self.pi = None\n",
    "        self.num_features = None\n",
    "    \n",
    "    def train(self, X, y):\n",
    "        n, D = X.shape\n",
    "        assert n == y.shape[0]\n",
    "        theta = np.zeros((2, D))\n",
    "        self.pi = np.mean(y)\n",
    "        X_0 = X_train[y_train==0, ]\n",
    "        X_1 = X_train[y_train==1, ]\n",
    "        theta[0,:54] = np.mean(X_0[:,0:54], axis=0)\n",
    "        theta[0,54:] = 1/np.mean(np.log(X_0[:,54:]), axis=0)\n",
    "        theta[1,:54] = np.mean(X_1[:,0:54], axis=0)\n",
    "        theta[1,54:] = 1/np.mean(np.log(X_1[:,54:]), axis=0)\n",
    "        self.theta = theta\n",
    "        self.num_features = D\n",
    "        \n",
    "    def predict(self, x):\n",
    "        pi = self.pi\n",
    "        theta = self.theta\n",
    "        p =np.zeros(2)\n",
    "        for i in range(2):\n",
    "            prod = (pi**(i))*(1-pi)**(1-i)\n",
    "            for d in range(54):\n",
    "                prod *= (((theta[i,d])**(x[d]))*((1-theta[i,d])**(1-x[d])))\n",
    "            for d in range(54, 57):\n",
    "                prod *= (theta[i,d]*(x[d]**(-(theta[i,d] + 1))))\n",
    "            p[i] = prod\n",
    "        return np.argmax(p)\n",
    "                "
   ]
  },
  {
   "cell_type": "code",
   "execution_count": 79,
   "metadata": {},
   "outputs": [],
   "source": [
    "B = BayesClassifier()"
   ]
  },
  {
   "cell_type": "code",
   "execution_count": 80,
   "metadata": {},
   "outputs": [],
   "source": [
    "B.train(X_train, y_train)"
   ]
  },
  {
   "cell_type": "code",
   "execution_count": 81,
   "metadata": {},
   "outputs": [
    {
     "data": {
      "text/plain": [
       "array([[1.48609078e-01, 9.91947291e-02, 2.77086384e-01, 2.92825769e-03,\n",
       "        2.22547584e-01, 1.15300146e-01, 1.57393851e-02, 7.32064422e-02,\n",
       "        7.94289898e-02, 1.69838946e-01, 5.19765739e-02, 4.25695461e-01,\n",
       "        1.17496340e-01, 4.53879941e-02, 1.79355783e-02, 9.11420205e-02,\n",
       "        9.55344070e-02, 1.24816984e-01, 5.81625183e-01, 1.68374817e-02,\n",
       "        3.41874085e-01, 8.05270864e-03, 2.74524158e-02, 1.97657394e-02,\n",
       "        3.73718887e-01, 2.81844802e-01, 2.77452416e-01, 1.55929722e-01,\n",
       "        1.29209370e-01, 1.61420205e-01, 1.03587116e-01, 7.32064422e-02,\n",
       "        1.23718887e-01, 7.39385066e-02, 1.57759883e-01, 1.74963397e-01,\n",
       "        2.62079063e-01, 1.83016105e-02, 1.14568082e-01, 8.93118594e-02,\n",
       "        5.27086384e-02, 1.15666179e-01, 1.03953148e-01, 1.00292826e-01,\n",
       "        2.97584187e-01, 1.61786237e-01, 1.61054173e-02, 6.77159590e-02,\n",
       "        1.85944363e-01, 5.51244510e-01, 1.42752562e-01, 2.69033675e-01,\n",
       "        1.04685212e-01, 8.27232796e-02, 1.51973529e+00, 4.61780959e-01,\n",
       "        2.50724084e-01],\n",
       "       [3.53603604e-01, 3.41779279e-01, 6.13175676e-01, 2.13963964e-02,\n",
       "        6.23310811e-01, 3.76126126e-01, 4.19481982e-01, 3.44031532e-01,\n",
       "        3.07995495e-01, 4.58333333e-01, 3.13626126e-01, 6.29504505e-01,\n",
       "        2.87162162e-01, 1.27815315e-01, 1.60472973e-01, 5.45045045e-01,\n",
       "        3.83445946e-01, 3.81193694e-01, 8.86261261e-01, 2.10022523e-01,\n",
       "        8.06306306e-01, 5.29279279e-02, 3.34459459e-01, 3.76689189e-01,\n",
       "        2.75900901e-02, 1.46396396e-02, 3.94144144e-03, 1.68918919e-02,\n",
       "        6.75675676e-03, 9.57207207e-03, 1.68918919e-03, 1.12612613e-03,\n",
       "        3.43468468e-02, 5.63063063e-03, 2.53378378e-02, 6.25000000e-02,\n",
       "        5.57432432e-02, 1.80180180e-02, 3.32207207e-02, 1.12049550e-01,\n",
       "        5.63063063e-04, 1.12612613e-02, 4.78603604e-02, 2.59009009e-02,\n",
       "        2.69707207e-01, 3.82882883e-02, 1.01351351e-02, 9.00900901e-03,\n",
       "        1.51463964e-01, 6.53153153e-01, 7.20720721e-02, 8.33333333e-01,\n",
       "        6.14864865e-01, 2.86599099e-01, 7.33117183e-01, 2.71287431e-01,\n",
       "        1.85924991e-01]])"
      ]
     },
     "execution_count": 81,
     "metadata": {},
     "output_type": "execute_result"
    }
   ],
   "source": [
    "B.theta"
   ]
  },
  {
   "cell_type": "code",
   "execution_count": 82,
   "metadata": {},
   "outputs": [
    {
     "data": {
      "text/plain": [
       "0.3939662821650399"
      ]
     },
     "execution_count": 82,
     "metadata": {},
     "output_type": "execute_result"
    }
   ],
   "source": [
    "B.pi"
   ]
  },
  {
   "cell_type": "code",
   "execution_count": 83,
   "metadata": {},
   "outputs": [
    {
     "data": {
      "text/plain": [
       "57"
      ]
     },
     "execution_count": 83,
     "metadata": {},
     "output_type": "execute_result"
    }
   ],
   "source": [
    "B.num_features"
   ]
  },
  {
   "cell_type": "code",
   "execution_count": 84,
   "metadata": {},
   "outputs": [],
   "source": [
    "results = []\n",
    "for n in range(X_test.shape[0]):\n",
    "    results.append(B.predict(X_test[n]))"
   ]
  },
  {
   "cell_type": "code",
   "execution_count": 91,
   "metadata": {},
   "outputs": [],
   "source": [
    "results = np.array(results)"
   ]
  },
  {
   "cell_type": "code",
   "execution_count": 112,
   "metadata": {},
   "outputs": [
    {
     "data": {
      "text/plain": [
       "array([[0, 0],\n",
       "       [0, 0]])"
      ]
     },
     "execution_count": 112,
     "metadata": {},
     "output_type": "execute_result"
    }
   ],
   "source": [
    "conf = np.zeros((2,2)).astype(np.int)\n",
    "conf"
   ]
  },
  {
   "cell_type": "code",
   "execution_count": 113,
   "metadata": {},
   "outputs": [],
   "source": [
    "for i in range(y_test.shape[0]):\n",
    "    a = int(y_test[i])\n",
    "    b = int(results[i])\n",
    "    conf[a,b] += 1\n",
    "        "
   ]
  },
  {
   "cell_type": "code",
   "execution_count": 114,
   "metadata": {},
   "outputs": [
    {
     "data": {
      "text/plain": [
       "array([[54,  2],\n",
       "       [ 5, 32]])"
      ]
     },
     "execution_count": 114,
     "metadata": {},
     "output_type": "execute_result"
    }
   ],
   "source": [
    "conf"
   ]
  },
  {
   "cell_type": "code",
   "execution_count": 115,
   "metadata": {},
   "outputs": [],
   "source": [
    "acc = np.trace(conf)/y_test.shape[0]"
   ]
  },
  {
   "cell_type": "code",
   "execution_count": null,
   "metadata": {},
   "outputs": [],
   "source": []
  },
  {
   "cell_type": "code",
   "execution_count": 116,
   "metadata": {},
   "outputs": [
    {
     "data": {
      "text/plain": [
       "0.9247311827956989"
      ]
     },
     "execution_count": 116,
     "metadata": {},
     "output_type": "execute_result"
    }
   ],
   "source": [
    "acc"
   ]
  },
  {
   "cell_type": "code",
   "execution_count": 117,
   "metadata": {},
   "outputs": [],
   "source": [
    "import matplotlib.pyplot as plt"
   ]
  },
  {
   "cell_type": "code",
   "execution_count": 122,
   "metadata": {},
   "outputs": [],
   "source": [
    "def normalize(x):\n",
    "    return x*(1-x)"
   ]
  },
  {
   "cell_type": "code",
   "execution_count": 120,
   "metadata": {},
   "outputs": [
    {
     "data": {
      "text/plain": [
       "<Container object of 3 artists>"
      ]
     },
     "execution_count": 120,
     "metadata": {},
     "output_type": "execute_result"
    },
    {
     "data": {
      "image/png": "[encoded data removed]",
      "text/plain": [
       "<matplotlib.figure.Figure at 0x7fc6fb25c3c8>"
      ]
     },
     "metadata": {},
     "output_type": "display_data"
    }
   ],
   "source": [
    "plt.stem(B.theta[0, :54])"
   ]
  },
  {
   "cell_type": "code",
   "execution_count": 121,
   "metadata": {},
   "outputs": [
    {
     "data": {
      "text/plain": [
       "<Container object of 3 artists>"
      ]
     },
     "execution_count": 121,
     "metadata": {},
     "output_type": "execute_result"
    },
    {
     "data": {
      "image/png": "[encoded data removed]",
      "text/plain": [
       "<matplotlib.figure.Figure at 0x7fc6fb4e6278>"
      ]
     },
     "metadata": {},
     "output_type": "display_data"
    }
   ],
   "source": [
    "plt.stem(B.theta[1, :54])"
   ]
  },
  {
   "cell_type": "code",
   "execution_count": 124,
   "metadata": {},
   "outputs": [
    {
     "data": {
      "text/plain": [
       "<Container object of 3 artists>"
      ]
     },
     "execution_count": 124,
     "metadata": {},
     "output_type": "execute_result"
    },
    {
     "data": {
      "image/png": "[encoded data removed]",
      "text/plain": [
       "<matplotlib.figure.Figure at 0x7fc6fb47deb8>"
      ]
     },
     "metadata": {},
     "output_type": "display_data"
    }
   ],
   "source": []
  },
  {
   "cell_type": "code",
   "execution_count": 168,
   "metadata": {},
   "outputs": [],
   "source": [
    "class kNN():\n",
    "    def __init__(self, k, X, y):\n",
    "        self.k = k\n",
    "        self.X = X\n",
    "        self.y = y\n",
    "        \n",
    "    def distance(self, x1, x2):\n",
    "        d = 0\n",
    "        for i in range(x1.shape[0]):\n",
    "            d += abs(x1[i] - x2[i])\n",
    "        return d\n",
    "        \n",
    "    def predict(self, x):\n",
    "        X = self.X\n",
    "        y = self.y\n",
    "        d = np.zeros(X.shape[0])\n",
    "        #print(d.shape, y.shape)\n",
    "        temp = np.column_stack((d, y))\n",
    "        #print(temp.shape)\n",
    "        for i in range(X.shape[0]):\n",
    "            temp[i, 0] = self.distance(x, X[i,:])\n",
    "        temp = temp[temp[:,0].argsort()]\n",
    "        return int(np.mean(temp[:self.k, 1]) > 0.5)\n",
    "    "
   ]
  },
  {
   "cell_type": "code",
   "execution_count": 169,
   "metadata": {},
   "outputs": [],
   "source": [
    "k = kNN(2, X_train, y_train)"
   ]
  },
  {
   "cell_type": "code",
   "execution_count": 170,
   "metadata": {},
   "outputs": [
    {
     "data": {
      "text/plain": [
       "1"
      ]
     },
     "execution_count": 170,
     "metadata": {},
     "output_type": "execute_result"
    }
   ],
   "source": [
    "k.predict(X_test[0])"
   ]
  },
  {
   "cell_type": "code",
   "execution_count": 171,
   "metadata": {},
   "outputs": [],
   "source": [
    "kresult = []\n",
    "for i in range(X_test.shape[0]):\n",
    "    kresult.append(k.predict(X_test[i]))"
   ]
  },
  {
   "cell_type": "code",
   "execution_count": 172,
   "metadata": {
    "collapsed": true
   },
   "outputs": [
    {
     "data": {
      "text/plain": [
       "[1,\n",
       " 0,\n",
       " 1,\n",
       " 1,\n",
       " 1,\n",
       " 0,\n",
       " 1,\n",
       " 1,\n",
       " 0,\n",
       " 1,\n",
       " 0,\n",
       " 1,\n",
       " 1,\n",
       " 0,\n",
       " 1,\n",
       " 1,\n",
       " 0,\n",
       " 1,\n",
       " 1,\n",
       " 1,\n",
       " 1,\n",
       " 1,\n",
       " 0,\n",
       " 1,\n",
       " 1,\n",
       " 1,\n",
       " 1,\n",
       " 1,\n",
       " 1,\n",
       " 1,\n",
       " 1,\n",
       " 1,\n",
       " 1,\n",
       " 1,\n",
       " 0,\n",
       " 1,\n",
       " 1,\n",
       " 0,\n",
       " 0,\n",
       " 0,\n",
       " 0,\n",
       " 0,\n",
       " 0,\n",
       " 0,\n",
       " 0,\n",
       " 0,\n",
       " 0,\n",
       " 0,\n",
       " 0,\n",
       " 0,\n",
       " 0,\n",
       " 1,\n",
       " 0,\n",
       " 0,\n",
       " 0,\n",
       " 0,\n",
       " 0,\n",
       " 0,\n",
       " 0,\n",
       " 0,\n",
       " 0,\n",
       " 0,\n",
       " 0,\n",
       " 0,\n",
       " 0,\n",
       " 0,\n",
       " 0,\n",
       " 0,\n",
       " 0,\n",
       " 0,\n",
       " 0,\n",
       " 0,\n",
       " 0,\n",
       " 0,\n",
       " 1,\n",
       " 1,\n",
       " 0,\n",
       " 0,\n",
       " 0,\n",
       " 0,\n",
       " 0,\n",
       " 0,\n",
       " 0,\n",
       " 0,\n",
       " 0,\n",
       " 0,\n",
       " 0,\n",
       " 1,\n",
       " 1,\n",
       " 0,\n",
       " 0,\n",
       " 0,\n",
       " 0]"
      ]
     },
     "execution_count": 172,
     "metadata": {},
     "output_type": "execute_result"
    }
   ],
   "source": [
    "kresult"
   ]
  },
  {
   "cell_type": "code",
   "execution_count": 173,
   "metadata": {},
   "outputs": [],
   "source": [
    "conf2 = np.zeros((2,2)).astype(np.int)\n",
    "for i in range(y_test.shape[0]):\n",
    "    a = int(y_test[i])\n",
    "    b = int(kresult[i])\n",
    "    conf2[a,b] += 1"
   ]
  },
  {
   "cell_type": "code",
   "execution_count": 175,
   "metadata": {},
   "outputs": [],
   "source": [
    "def accuracy(y_pred, y):\n",
    "    conf = np.zeros((2,2)).astype(np.int)\n",
    "    for i in range(y.shape[0]):\n",
    "        a = int(y[i])\n",
    "        b = int(y_pred[i])\n",
    "        conf[a,b] += 1\n",
    "    return np.trace(conf)/y.shape[0]"
   ]
  },
  {
   "cell_type": "code",
   "execution_count": 176,
   "metadata": {},
   "outputs": [
    {
     "data": {
      "text/plain": [
       "0.8602150537634409"
      ]
     },
     "execution_count": 176,
     "metadata": {},
     "output_type": "execute_result"
    }
   ],
   "source": [
    "accuracy(kresult, y_test)"
   ]
  },
  {
   "cell_type": "code",
   "execution_count": 178,
   "metadata": {},
   "outputs": [],
   "source": [
    "acc = []"
   ]
  },
  {
   "cell_type": "code",
   "execution_count": 179,
   "metadata": {},
   "outputs": [],
   "source": [
    "for i in range(20):\n",
    "    k = kNN(i+1, X_train, y_train)\n",
    "    kresult = []\n",
    "    for i in range(X_test.shape[0]):\n",
    "        kresult.append(k.predict(X_test[i]))\n",
    "    acc.append(accuracy(kresult, y_test))"
   ]
  },
  {
   "cell_type": "code",
   "execution_count": 180,
   "metadata": {},
   "outputs": [
    {
     "data": {
      "text/plain": [
       "[0.8817204301075269,\n",
       " 0.8602150537634409,\n",
       " 0.8709677419354839,\n",
       " 0.9032258064516129,\n",
       " 0.9032258064516129,\n",
       " 0.9032258064516129,\n",
       " 0.8924731182795699,\n",
       " 0.8709677419354839,\n",
       " 0.8817204301075269,\n",
       " 0.8817204301075269,\n",
       " 0.8602150537634409,\n",
       " 0.8817204301075269,\n",
       " 0.8709677419354839,\n",
       " 0.8924731182795699,\n",
       " 0.8709677419354839,\n",
       " 0.8709677419354839,\n",
       " 0.8709677419354839,\n",
       " 0.8817204301075269,\n",
       " 0.8709677419354839,\n",
       " 0.8602150537634409]"
      ]
     },
     "execution_count": 180,
     "metadata": {},
     "output_type": "execute_result"
    }
   ],
   "source": [
    "acc"
   ]
  },
  {
   "cell_type": "code",
   "execution_count": null,
   "metadata": {},
   "outputs": [],
   "source": []
  }
 ],
 "metadata": {
  "kernelspec": {
   "display_name": "Python 3",
   "language": "python",
   "name": "python3"
  },
  "language_info": {
   "codemirror_mode": {
    "name": "ipython",
    "version": 3
   },
   "file_extension": ".py",
   "mimetype": "text/x-python",
   "name": "python",
   "nbconvert_exporter": "python",
   "pygments_lexer": "ipython3",
   "version": "3.6.4"
  }
 },
 "nbformat": 4,
 "nbformat_minor": 2
}
